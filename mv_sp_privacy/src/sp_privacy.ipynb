{
 "cells": [
  {
   "cell_type": "markdown",
   "metadata": {},
   "source": [
    "# Support points with Exponential Mechanism"
   ]
  },
  {
   "cell_type": "markdown",
   "metadata": {},
   "source": [
    "### Procedure:\n",
    "\n",
    "\n",
    "1. Given data $X = \\{x_1, \\ldots, x_M\\}$ on space $\\mathcal{D} \\in [0, 1]^d$, find optimal support points $Y = \\{y_1, \\ldots, y_N\\}$.\n",
    "2. Using energy distance (with Lp norm) as the score function of the exponential mechanism, the sensitivity is $\\Delta f = \\frac{2 d^{1/p}(2N - 1)}{N^2}$. The exponential mechanism samples a new energy value $\\tilde{e} \\sim \\mbox{Exp}(\\frac{2\\Delta f}{\\alpha})$, where $\\alpha$ is the privacy budget.\n",
    "3. Let $\\tilde{Y}$ be a copy of $Y$. While $e(\\tilde{Y}, Y) < \\tilde{e}$, perturb all points in $\\tilde{Y}$ with small step in a random direction.\n",
    "\n",
    "---\n",
    "\n",
    " \n",
    "Note: Exponential samples (i.e. energy distances) are larger with:\n",
    "  - small privacy budget, $\\alpha$\n",
    "  - large sensitivity, $\\Delta f$\n",
    "  - large dimensionality, $d$\n",
    "  - small energy exponent, $p$\n",
    "  - small support point set, $N$."
   ]
  },
  {
   "cell_type": "markdown",
   "metadata": {},
   "source": [
    "___"
   ]
  },
  {
   "cell_type": "markdown",
   "metadata": {},
   "source": [
    "# 0. Helper Functions"
   ]
  },
  {
   "cell_type": "code",
   "execution_count": 1,
   "metadata": {
    "scrolled": true
   },
   "outputs": [
    {
     "name": "stdout",
     "output_type": "stream",
     "text": [
      "3.5.2 (default, Nov 12 2018, 13:43:14) \n",
      "[GCC 5.4.0 20160609]\n",
      "1.13.1\n"
     ]
    }
   ],
   "source": [
    "%matplotlib inline\n",
    "\n",
    "import math\n",
    "import matplotlib\n",
    "import matplotlib.pyplot as plt\n",
    "import numpy as np\n",
    "import os\n",
    "import pdb\n",
    "from scipy.spatial.distance import pdist\n",
    "import sys\n",
    "import tensorflow as tf\n",
    "import time\n",
    "\n",
    "from data import load_balog_data\n",
    "from sp_utils import (\n",
    "    get_support_points,\n",
    "    energy,\n",
    "    sample_sp_exp_mech,\n",
    "    sample_sp_mmd_dp_bw,\n",
    "    mixture_model_likelihood,\n",
    "    sample_full_set_by_diffusion)\n",
    "\n",
    "matplotlib.rcParams.update({'font.size': 14})\n",
    "plt.style.use('ggplot')\n",
    "print(sys.version)\n",
    "print(tf.__version__)"
   ]
  },
  {
   "cell_type": "code",
   "execution_count": 2,
   "metadata": {},
   "outputs": [],
   "source": [
    "np.random.seed(345)"
   ]
  },
  {
   "cell_type": "markdown",
   "metadata": {},
   "source": [
    "____"
   ]
  },
  {
   "cell_type": "markdown",
   "metadata": {},
   "source": [
    "# 1. Global Config"
   ]
  },
  {
   "cell_type": "markdown",
   "metadata": {},
   "source": [
    "Note: Exponential samples (i.e. energy distances) are smaller with:\n",
    "  - large privacy budget, $\\alpha$\n",
    "  - small sensitivity, $\\Delta f$\n",
    "  - small dimensionality, $d$\n",
    "  - large energy exponent, $p$\n",
    "  - large support point set, $N$"
   ]
  },
  {
   "cell_type": "code",
   "execution_count": 3,
   "metadata": {
    "scrolled": true
   },
   "outputs": [],
   "source": [
    "# Set global constants.          # main1()\n",
    "IS_TF = True                     # Boolean. Use TensorFlow rather than analytical gradients.\n",
    "Y_INIT_OPTION = 'radial'         # ['grid', 'random', 'radial']\n",
    "MAX_ITER = 301                   # Num iterations in each support point optimization. [301]\n",
    "LR = 1e-2                        # Energy optimization learning rate. [1e-2]\n",
    "\n",
    "C = 10                           # Number of clusters in data.\n",
    "SIGMA_DATA = 0.03                # Bandwidth of data.\n",
    "M = 200                          # Number of data points.\n",
    "DIM = 2                          # Dimension of data.\n",
    "\n",
    "N = 10                           # Number of support points.\n",
    "ALPHA = 50                       # Differential privacy level.\n",
    "ENERGY_POWER = 2.                # Power for energy distance kernel.\n",
    "STEP_SIZE = 1e-3                 # Diffusion and MH step sizes."
   ]
  },
  {
   "cell_type": "markdown",
   "metadata": {},
   "source": [
    "___"
   ]
  },
  {
   "cell_type": "markdown",
   "metadata": {},
   "source": [
    "# 2. Load and Plot Data"
   ]
  },
  {
   "cell_type": "code",
   "execution_count": null,
   "metadata": {
    "scrolled": true
   },
   "outputs": [
    {
     "name": "stdout",
     "output_type": "stream",
     "text": [
      "Loaded M=200, DIM=2, SIG=0.03, C=10\n"
     ]
    }
   ],
   "source": [
    "# Load data.\n",
    "x = load_balog_data(M, DIM, C, SIGMA_DATA, make_new=True, do_weighted=True)"
   ]
  },
  {
   "cell_type": "markdown",
   "metadata": {},
   "source": [
    "___"
   ]
  },
  {
   "cell_type": "markdown",
   "metadata": {},
   "source": [
    "# 3. Run Support Point Optimization"
   ]
  },
  {
   "cell_type": "code",
   "execution_count": null,
   "metadata": {
    "scrolled": false
   },
   "outputs": [
    {
     "name": "stdout",
     "output_type": "stream",
     "text": [
      "\n",
      "STARTING RUN. is_tf: True, y_init: radial, clip: bounds, wlb: False\n",
      "  [*] Using TensorFlow optimization.\n",
      "WARNING:tensorflow:From /home/maurice/virtualenvironment/py3.5/lib/python3.5/site-packages/tensorflow/python/framework/op_def_library.py:263: colocate_with (from tensorflow.python.framework.ops) is deprecated and will be removed in a future version.\n",
      "Instructions for updating:\n",
      "Colocations handled automatically by placer.\n",
      "WARNING:tensorflow:From /home/maurice/virtualenvironment/py3.5/lib/python3.5/site-packages/tensorflow/python/ops/math_ops.py:3066: to_int32 (from tensorflow.python.ops.math_ops) is deprecated and will be removed in a future version.\n",
      "Instructions for updating:\n",
      "Use tf.cast instead.\n",
      "[[0.75       0.5       ]\n",
      " [0.70131755 0.648227  ]\n",
      " [0.5742301  0.73872554]\n",
      " [0.418233   0.7362502 ]\n",
      " [0.29408085 0.64176494]]\n",
      "(array([[ 0.04923833, -0.0192663 ],\n",
      "       [ 0.06137564, -0.01474607],\n",
      "       [ 0.07716119,  0.00587148],\n",
      "       [ 0.0570121 ,  0.03732489],\n",
      "       [-0.00549441, -0.01061643],\n",
      "       [ 0.00617766, -0.06555833],\n",
      "       [ 0.03178387, -0.06558073],\n",
      "       [ 0.03015229, -0.03820163],\n",
      "       [ 0.03231062, -0.02596228],\n",
      "       [ 0.03566165, -0.02758095]], dtype=float32),)\n",
      "> /home/maurice/privacy/mv_sp_privacy/src/sp_utils.py(178)optimize_support_points()\n",
      "-> sp_temp = sp_\n",
      "(Pdb) gens.shape\n",
      "*** NameError: name 'gens' is not defined\n",
      "(Pdb) gen.shape\n",
      "(10, 2)\n",
      "(Pdb) data.shape\n",
      "(200, 2)\n",
      "(Pdb) data\n",
      "array([[0.76289638, 0.302163  ],\n",
      "       [0.369744  , 0.64661083],\n",
      "       [0.26692473, 0.48367726],\n",
      "       [0.38228412, 0.61092746],\n",
      "       [0.32647348, 0.76276175],\n",
      "       [0.22386674, 0.56106249],\n",
      "       [0.48657588, 0.59514294],\n",
      "       [0.47776027, 0.5544408 ],\n",
      "       [0.44003531, 0.66648563],\n",
      "       [0.38731583, 0.64289625],\n",
      "       [0.37895994, 0.60660455],\n",
      "       [0.39085468, 0.584385  ],\n",
      "       [0.57102692, 0.25430172],\n",
      "       [0.42682769, 0.5936666 ],\n",
      "       [0.2649409 , 0.58586597],\n",
      "       [0.27306997, 0.70524799],\n",
      "       [0.35518213, 0.66217415],\n",
      "       [0.37526472, 0.62123601],\n",
      "       [0.62754501, 0.42395577],\n",
      "       [0.27343184, 0.59864706],\n",
      "       [0.40548393, 0.56580278],\n",
      "       [0.50785733, 0.21307014],\n",
      "       [0.35744372, 0.77213601],\n",
      "       [0.43971069, 0.63885743],\n",
      "       [0.30343702, 0.77216295],\n",
      "       [0.49819454, 0.54974445],\n",
      "       [0.40132468, 0.66445714],\n",
      "       [0.35420559, 0.58049033],\n",
      "       [0.44226558, 0.61456566],\n",
      "       [0.1126579 , 0.49883639],\n",
      "       [0.49536599, 0.58108965],\n",
      "       [0.39817515, 0.65037512],\n",
      "       [0.57951739, 0.16051958],\n",
      "       [0.42360822, 0.59494984],\n",
      "       [0.39597064, 0.65678032],\n",
      "       [0.80308497, 0.26981153],\n",
      "       [0.49807305, 0.5791342 ],\n",
      "       [0.46533996, 0.6246734 ],\n",
      "       [0.68762882, 0.47234907],\n",
      "       [0.80778782, 0.34306006],\n",
      "       [0.43499442, 0.64943295],\n",
      "       [0.49490238, 0.5678218 ],\n",
      "       [0.31072557, 0.45174703],\n",
      "       [0.64823977, 0.39083908],\n",
      "       [0.41085414, 0.64354465],\n",
      "       [0.37433178, 0.68432583],\n",
      "       [0.69506321, 0.44355207],\n",
      "       [0.16669869, 0.48697518],\n",
      "       [0.14529682, 0.63807605],\n",
      "       [0.6891428 , 0.43147803],\n",
      "       [0.40996131, 0.57869319],\n",
      "       [0.50539583, 0.59925948],\n",
      "       [0.30378088, 0.45364433],\n",
      "       [0.65638065, 0.48567677],\n",
      "       [0.65433099, 0.42038545],\n",
      "       [0.28284083, 0.48840225],\n",
      "       [0.51137688, 0.57011444],\n",
      "       [0.32485469, 0.76043581],\n",
      "       [0.47172224, 0.57291533],\n",
      "       [0.11537935, 0.5228391 ],\n",
      "       [0.53138602, 0.54734788],\n",
      "       [0.50591858, 0.60089091],\n",
      "       [0.37680411, 0.60449959],\n",
      "       [0.40363635, 0.57301913],\n",
      "       [0.40604459, 0.60461527],\n",
      "       [0.45243958, 0.63704667],\n",
      "       [0.16953835, 0.53968134],\n",
      "       [0.56013146, 0.1579855 ],\n",
      "       [0.40895907, 0.60208468],\n",
      "       [0.51613229, 0.56991746],\n",
      "       [0.82426628, 0.31999096],\n",
      "       [0.45411492, 0.59235835],\n",
      "       [0.45952477, 0.64723672],\n",
      "       [0.31079608, 0.73764763],\n",
      "       [0.51141134, 0.58345271],\n",
      "       [0.47820842, 0.64146393],\n",
      "       [0.45704755, 0.54083507],\n",
      "       [0.39921224, 0.62635094],\n",
      "       [0.7844137 , 0.25076353],\n",
      "       [0.36481066, 0.49058138],\n",
      "       [0.39748117, 0.60648989],\n",
      "       [0.38712906, 0.60816421],\n",
      "       [0.47655188, 0.54947888],\n",
      "       [0.14136263, 0.51172238],\n",
      "       [0.45673867, 0.24278214],\n",
      "       [0.40109385, 0.64201748],\n",
      "       [0.34039298, 0.70470343],\n",
      "       [0.64842038, 0.47946929],\n",
      "       [0.37412147, 0.64356214],\n",
      "       [0.11193632, 0.65405692],\n",
      "       [0.60727731, 0.52010581],\n",
      "       [0.46105473, 0.55028621],\n",
      "       [0.62601685, 0.47367564],\n",
      "       [0.53168379, 0.565361  ],\n",
      "       [0.29969123, 0.4966208 ],\n",
      "       [0.51745493, 0.5615984 ],\n",
      "       [0.41078872, 0.63975125],\n",
      "       [0.29599568, 0.46938404],\n",
      "       [0.09439773, 0.69633909],\n",
      "       [0.13425172, 0.65526773],\n",
      "       [0.29314271, 0.76451499],\n",
      "       [0.13681732, 0.62894179],\n",
      "       [0.27402641, 0.47753875],\n",
      "       [0.68633867, 0.41875005],\n",
      "       [0.542224  , 0.17323586],\n",
      "       [0.35963217, 0.50017329],\n",
      "       [0.51250604, 0.592999  ],\n",
      "       [0.28854282, 0.76833241],\n",
      "       [0.44279674, 0.63737738],\n",
      "       [0.29393414, 0.44579072],\n",
      "       [0.61091579, 0.44426386],\n",
      "       [0.52593928, 0.24549267],\n",
      "       [0.56116786, 0.19324594],\n",
      "       [0.25164879, 0.50362009],\n",
      "       [0.67273523, 0.43184532],\n",
      "       [0.26704721, 0.59403873],\n",
      "       [0.38423071, 0.5933062 ],\n",
      "       [0.39916263, 0.6555808 ],\n",
      "       [0.25910257, 0.7091445 ],\n",
      "       [0.46689274, 0.56953425],\n",
      "       [0.41128552, 0.62372412],\n",
      "       [0.53310568, 0.58431559],\n",
      "       [0.78118232, 0.27508003],\n",
      "       [0.24891674, 0.58210841],\n",
      "       [0.20666958, 0.51182145],\n",
      "       [0.30682024, 0.45318906],\n",
      "       [0.46409187, 0.655095  ],\n",
      "       [0.49363885, 0.54539387],\n",
      "       [0.39007608, 0.62518869],\n",
      "       [0.3902606 , 0.62641517],\n",
      "       [0.53085794, 0.57504981],\n",
      "       [0.48008294, 0.59699843],\n",
      "       [0.69886293, 0.50548595],\n",
      "       [0.28789731, 0.45178103],\n",
      "       [0.29698392, 0.45600194],\n",
      "       [0.53498098, 0.58975632],\n",
      "       [0.2951414 , 0.71559689],\n",
      "       [0.11351784, 0.67874169],\n",
      "       [0.86156481, 0.29995655],\n",
      "       [0.41399066, 0.60135676],\n",
      "       [0.35928104, 0.60261865],\n",
      "       [0.1442317 , 0.5523836 ],\n",
      "       [0.40704255, 0.63574239],\n",
      "       [0.50060545, 0.24796439],\n",
      "       [0.61867311, 0.50786423],\n",
      "       [0.13938834, 0.55691725],\n",
      "       [0.38967297, 0.62971161],\n",
      "       [0.46524413, 0.518515  ],\n",
      "       [0.68039926, 0.4548351 ],\n",
      "       [0.66394506, 0.45568674],\n",
      "       [0.45050005, 0.55776581],\n",
      "       [0.41940454, 0.58358809],\n",
      "       [0.3783959 , 0.63683238],\n",
      "       [0.1263615 , 0.61989644],\n",
      "       [0.65380868, 0.46319215],\n",
      "       [0.54832779, 0.20011575],\n",
      "       [0.39256581, 0.5891701 ],\n",
      "       [0.13534887, 0.52429018],\n",
      "       [0.6655336 , 0.48863325],\n",
      "       [0.10976623, 0.58562282],\n",
      "       [0.41823702, 0.61825277],\n",
      "       [0.38075375, 0.59310563],\n",
      "       [0.43181541, 0.66871537],\n",
      "       [0.41347826, 0.63461123],\n",
      "       [0.43117927, 0.71983714],\n",
      "       [0.29365985, 0.61500232],\n",
      "       [0.52655148, 0.59335508],\n",
      "       [0.27490937, 0.49296725],\n",
      "       [0.45900029, 0.56373745],\n",
      "       [0.39540246, 0.6441059 ],\n",
      "       [0.3956999 , 0.61237705],\n",
      "       [0.25769887, 0.61287049],\n",
      "       [0.40452118, 0.64577789],\n",
      "       [0.34800583, 0.62267257],\n",
      "       [0.18288703, 0.54552123],\n",
      "       [0.37107596, 0.62405233],\n",
      "       [0.38490228, 0.60167172],\n",
      "       [0.39654623, 0.64920902],\n",
      "       [0.11678189, 0.49537305],\n",
      "       [0.36721903, 0.63316645],\n",
      "       [0.35276363, 0.48479143],\n",
      "       [0.65198724, 0.39076235],\n",
      "       [0.45289604, 0.59737882],\n",
      "       [0.46253594, 0.58689443],\n",
      "       [0.3798268 , 0.62726942],\n",
      "       [0.29691196, 0.64815786],\n",
      "       [0.3720634 , 0.62998045],\n",
      "       [0.63132571, 0.46228693],\n",
      "       [0.47684343, 0.62437775],\n",
      "       [0.41912412, 0.57790775],\n",
      "       [0.43011675, 0.60707641],\n",
      "       [0.12694662, 0.52194863],\n",
      "       [0.40716275, 0.62164467],\n",
      "       [0.37451248, 0.7998353 ],\n",
      "       [0.28500999, 0.75844354],\n",
      "       [0.37660418, 0.62699573],\n",
      "       [0.38945462, 0.58451692],\n",
      "       [0.80611134, 0.34279375],\n",
      "       [0.55217489, 0.22147049],\n",
      "       [0.5004357 , 0.6016168 ]])\n"
     ]
    }
   ],
   "source": [
    "# Compute m support points on full set.\n",
    "y_opt, e_opt = get_support_points(x, N, MAX_ITER, LR, is_tf=IS_TF)"
   ]
  },
  {
   "cell_type": "markdown",
   "metadata": {},
   "source": [
    "#### Paper: Figure of support point optimization for variety of cluster sizes and counts."
   ]
  },
  {
   "cell_type": "code",
   "execution_count": null,
   "metadata": {},
   "outputs": [],
   "source": [
    "example_sigmas = [0.02, 0.04]\n",
    "example_clusters = [5, 10, 30]\n",
    "n_sig = len(example_sigmas)\n",
    "n_clu = len(example_clusters)\n",
    "\n",
    "fig, axs = plt.subplots(n_sig, n_clu, figsize=(5 * n_clu, 5 * n_sig))\n",
    "for i, sigma in enumerate(example_sigmas):\n",
    "    for j, cluster_count in enumerate(example_clusters):\n",
    "        temp_data = load_balog_data(M, DIM, cluster_count, sigma, make_new=True,\n",
    "                                    do_weighted=False)\n",
    "        temp_y_opt, temp_e_opt = get_support_points(temp_data, N, MAX_ITER,\n",
    "                                                    LR, is_tf=IS_TF, plot=False)\n",
    "\n",
    "        axs[i, j].set_title('$\\sigma$={}, C={}'.format(sigma, cluster_count))\n",
    "        axs[i, j].scatter(temp_data[:, 0], temp_data[:, 1], c='gray', alpha=0.3)\n",
    "        axs[i, j].scatter(temp_y_opt[:, 0], temp_y_opt[:, 1], c='limegreen', alpha=0.7)\n",
    "        axs[i, j].set_xlim((0, 1))\n",
    "        axs[i, j].set_ylim((0, 1))\n",
    "\n",
    "\n",
    "plt.subplots_adjust(wspace=0.2, hspace=0.2,\n",
    "                    bottom=0.1, top=0.9, left=0.1, right=0.9)\n",
    "plt.savefig('../output/fig_sp_optimization.png')"
   ]
  },
  {
   "cell_type": "markdown",
   "metadata": {},
   "source": [
    "___"
   ]
  },
  {
   "cell_type": "markdown",
   "metadata": {},
   "source": [
    "# 4. Define energy sensitivity."
   ]
  },
  {
   "cell_type": "code",
   "execution_count": null,
   "metadata": {
    "scrolled": false
   },
   "outputs": [],
   "source": [
    "# Define energy sensitivity for Exponential Mechanism.\n",
    "# OLD: energy_sensitivity = 2 * DIM ** (1. / ENERGY_POWER) / N ** 2\n",
    "energy_sensitivity = 2 * DIM ** (1. / ENERGY_POWER) * (2 * N - 1) / N ** 2\n",
    "print(('Exp(2 * U / alpha) = Exp(2 * {:.4f} / {:.2f}) '\n",
    "       '= Exp({:.3f})').format(energy_sensitivity, ALPHA, \n",
    "                               2. * energy_sensitivity / ALPHA))"
   ]
  },
  {
   "cell_type": "markdown",
   "metadata": {},
   "source": [
    "___"
   ]
  },
  {
   "cell_type": "markdown",
   "metadata": {},
   "source": [
    "## 5. Sample support points."
   ]
  },
  {
   "cell_type": "markdown",
   "metadata": {},
   "source": [
    "## 5.0 Sample support points with SP + Exponential Mechanism."
   ]
  },
  {
   "cell_type": "code",
   "execution_count": null,
   "metadata": {
    "scrolled": true
   },
   "outputs": [],
   "source": [
    "RUN_MH = 1\n",
    "RUN_DIFFUSION = 1\n",
    "PLOT = 1"
   ]
  },
  {
   "cell_type": "code",
   "execution_count": null,
   "metadata": {},
   "outputs": [],
   "source": [
    "if RUN_MH:\n",
    "    # Sampling parameters.\n",
    "    STEP_SIZE = 1e-3\n",
    "    NUM_Y_TILDES = 200\n",
    "    ALPHA_MH = 10000\n",
    "\n",
    "    METHOD = 'mh'\n",
    "    print('\\n\\n--------- RUNNING {} ----------\\n'.format(METHOD.upper()))\n",
    "    (y_tildes_mh,\n",
    "     energies_mh,\n",
    "     _) = sample_sp_exp_mech(e_opt, energy_sensitivity, x, y_opt,\n",
    "                             METHOD, STEP_SIZE, NUM_Y_TILDES, ALPHA_MH,\n",
    "                             plot=PLOT)\n",
    "    \n",
    "    if PLOT:\n",
    "        #plt.title('Energies with MH, {} samples'.format(len(energies_mh)))\n",
    "        plt.hist(energies_mh, bins=20, alpha=0.3, density=True, label='Samples')\n",
    "        \n",
    "        \n",
    "        # Compare to Exponential density.\n",
    "        p = exponential_param = 2. * energy_sensitivity / ALPHA_MH\n",
    "        xs = np.linspace(0, np.max(energies_mh), 100)\n",
    "        xs_dens = 1 / p * np.exp(-xs / p)\n",
    "        plt.plot(xs, xs_dens, c='gray', label='Exponential density')\n",
    "        plt.xlabel(r'Energy, $e(y, \\tilde{y})$', fontsize=14)\n",
    "        plt.ylabel('Frequency', fontsize=14)\n",
    "\n",
    "        plt.tight_layout()\n",
    "        plt.savefig('../output/fig_mh_energies.png')\n",
    "        plt.show()\n",
    "        print('p: {}'.format(p))"
   ]
  },
  {
   "cell_type": "code",
   "execution_count": null,
   "metadata": {},
   "outputs": [],
   "source": [
    "if RUN_DIFFUSION:\n",
    "    # Sampling parameters.\n",
    "    STEP_SIZE = 1e-2\n",
    "    NUM_Y_TILDES = 200\n",
    "    # ALPHA = 100\n",
    "    \n",
    "    METHOD = 'diffusion'\n",
    "    print('\\n\\n--------- RUNNING {} ----------\\n'.format(METHOD.upper()))\n",
    "    (y_tildes_diffusion,\n",
    "     energies_diffusion,\n",
    "     energy_estimation_errors_diffusion) = sample_sp_exp_mech(e_opt,\n",
    "                                                              energy_sensitivity,\n",
    "                                                              x, y_opt, METHOD,\n",
    "                                                              STEP_SIZE, NUM_Y_TILDES,\n",
    "                                                              ALPHA)\n",
    "    \n",
    "    if PLOT:\n",
    "        #plt.title('Energies with Diffusion, {} samples'.format(len(energies_diffusion)))\n",
    "        plt.hist(energies_diffusion, bins=20, alpha=0.3, density=True, label='Samples')\n",
    "        plt.xlabel(r'Energy, $e(y, \\tilde{y})$', fontsize=14)\n",
    "        plt.ylabel('Frequency', fontsize=14)\n",
    "        \n",
    "        # Compare to Exponential density.\n",
    "        p = exponential_param = 2. * energy_sensitivity / ALPHA\n",
    "        xs = np.linspace(0, np.max(energies_diffusion), 100)\n",
    "        xs_dens = 1 / p * np.exp(-xs / p)\n",
    "        plt.plot(xs, xs_dens, c='gray', label='Exponential density')\n",
    "        plt.legend()\n",
    "        plt.tight_layout()\n",
    "        plt.savefig('../output/fig_diffusion_energies.png')\n",
    "        plt.show()\n",
    "        print('p: {}'.format(p))\n",
    "        \n",
    "        # Scatter plot the errors.\n",
    "        errs = energy_estimation_errors_diffusion\n",
    "        plt.scatter(errs[:, 0], errs[:, 1])\n",
    "        plt.xlabel(r'Energy, $e(y, \\tilde{y})$', fontsize=14)\n",
    "        plt.ylabel(r'Relative error: $(e(y, \\tilde{y}) - \\tilde{e}) \\, / \\, \\tilde{e}$',\n",
    "                   fontsize=14)\n",
    "        plt.tight_layout()\n",
    "        plt.savefig('../output/fig_diffusion_energy_errors.png')\n",
    "        plt.show()\n"
   ]
  },
  {
   "cell_type": "code",
   "execution_count": null,
   "metadata": {},
   "outputs": [],
   "source": [
    "\"\"\"\n",
    "# Compare to energies of e(y_opt, uniform)\n",
    "baseline_energies = np.zeros(NUM_Y_TILDES)\n",
    "for i in range(NUM_Y_TILDES):\n",
    "    e_, _ = energy(y_opt, np.random.uniform(size=y_opt.shape))\n",
    "    baseline_energies[i] = e_\n",
    "plt.title('Energies with UNIFORM, n={}'.format(len(baseline_energies)))\n",
    "plt.hist(baseline_energies, bins=20, alpha=0.3)\n",
    "plt.show()\n",
    "\"\"\""
   ]
  },
  {
   "cell_type": "markdown",
   "metadata": {},
   "source": [
    "#### Paper: Figure of private support point samples with various alphas."
   ]
  },
  {
   "cell_type": "code",
   "execution_count": null,
   "metadata": {},
   "outputs": [],
   "source": [
    "example_alphas = [1, 10, 100, 1000]\n",
    "step_sizes = [0.25, 1e-2, 1e-2, 1e-3]\n",
    "n_alp = len(example_alphas)\n",
    "fig, axs = plt.subplots(1, n_alp, figsize=(3 * n_alp, 3))\n",
    "for i, alpha in enumerate(example_alphas):\n",
    "    np.random.seed(234)\n",
    "    (y_tildes_diffusion,\n",
    "     energies_diffusion,\n",
    "     energy_errors_diffusion) = sample_sp_exp_mech(e_opt, energy_sensitivity,\n",
    "                                                   x, y_opt, 'diffusion',\n",
    "                                                   step_size=step_sizes[i],\n",
    "                                                   num_y_tildes=1,\n",
    "                                                   alpha=alpha,\n",
    "                                                   diffusion_mean=True)\n",
    "\n",
    "    axs[i].set_title(r'$\\alpha$={}, e={:.4f}'.format(alpha,\n",
    "                                                     energies_diffusion[0]))\n",
    "    axs[i].scatter(x[:, 0], x[:, 1], c='gray', alpha=0.3)\n",
    "    axs[i].scatter(y_opt[:, 0], y_opt[:, 1], c='limegreen', alpha=0.7)\n",
    "    axs[i].scatter(y_tildes_diffusion[0, :, 0],\n",
    "                   y_tildes_diffusion[0, :, 1],\n",
    "                   c='red', alpha=0.7)\n",
    "    axs[i].set_xlim((0, 1))\n",
    "    axs[i].set_ylim((0, 1))\n",
    "        \n",
    "plt.subplots_adjust(wspace=0.2, hspace=0.2,\n",
    "                    bottom=0.1, top=0.9, left=0.05, right=0.95)\n",
    "plt.savefig('../output/fig_sp_different_alphas.png')\n",
    "plt.show()"
   ]
  },
  {
   "cell_type": "markdown",
   "metadata": {},
   "source": [
    "## (CUT?) 5.1 Sample support points via MMD w/ DP median of pairwise distances"
   ]
  },
  {
   "cell_type": "markdown",
   "metadata": {},
   "source": [
    "#### Paper: Figure of private support point samples with various alphas."
   ]
  },
  {
   "cell_type": "code",
   "execution_count": null,
   "metadata": {},
   "outputs": [],
   "source": [
    "_MAX_ITER = 5001\n",
    "_LR = 5e-4\n",
    "\n",
    "# Compute median of pairwise distances, and use that as bandwidth.\n",
    "median_pairwise_dists = np.median(pdist(x, 'minkowski', p=ENERGY_POWER))\n",
    "sensitivity_median_pairwise_dists = DIM ** (1. / ENERGY_POWER) / 2.\n",
    "print('True median: {:.4f}'.format(median_pairwise_dists))\n",
    "\n",
    "# \"True\" support points using MMD.\n",
    "y_opt_mmd, mmd_opt = get_support_points(x, N, _MAX_ITER, _LR,\n",
    "                                        is_tf=IS_TF,\n",
    "                                        plot=True,\n",
    "                                        do_mmd=True,\n",
    "                                        mmd_sigma=median_pairwise_dists)\n"
   ]
  },
  {
   "cell_type": "code",
   "execution_count": null,
   "metadata": {
    "scrolled": true
   },
   "outputs": [],
   "source": [
    "# Get private support points by using MMD with private bandwidth.\n",
    "example_alphas = [1, 10, 100, 1000]\n",
    "step_sizes = [0.25, 1e-2, 1e-2, 1e-3]\n",
    "n_alp = len(example_alphas)\n",
    "fig, axs = plt.subplots(1, n_alp, figsize=(3 * n_alp, 3))\n",
    "for i, alpha in enumerate(example_alphas):\n",
    "    # For this figure, use mean value of noise, instead of actual sample.\n",
    "    (temp_y_opt_mmd,\n",
    "     temp_mmd_opt) = sample_sp_mmd_dp_bw(x, ENERGY_POWER, DIM, alpha, N,\n",
    "                                         plot=False, use_mean=True)\n",
    "    \n",
    "    \n",
    "    \n",
    "    axs[i].set_title(r'$\\alpha$={}, e={:.8f}'.format(alpha,\n",
    "                                                     temp_mmd_opt))\n",
    "    axs[i].scatter(x[:, 0], x[:, 1], c='gray', alpha=0.3)\n",
    "    axs[i].scatter(y_opt_mmd[:, 0], y_opt_mmd[:, 1], c='limegreen', alpha=0.7)\n",
    "    axs[i].scatter(temp_y_opt_mmd[:, 0], temp_y_opt_mmd[:, 1], c='red', alpha=0.7)\n",
    "    axs[i].set_xlim((0, 1))\n",
    "    axs[i].set_ylim((0, 1))\n",
    "\n",
    "plt.subplots_adjust(wspace=0.2, hspace=0.2,\n",
    "                    bottom=0.1, top=0.9, left=0.1, right=0.9)\n",
    "plt.savefig('../output/fig_sp_mmd_dp_bw.png')\n",
    "plt.show()"
   ]
  },
  {
   "cell_type": "markdown",
   "metadata": {},
   "source": [
    "___"
   ]
  },
  {
   "cell_type": "markdown",
   "metadata": {},
   "source": [
    "## 6. Expand to full data set."
   ]
  },
  {
   "cell_type": "markdown",
   "metadata": {},
   "source": [
    "## 6.0 KDE with pre-selected bandwidth."
   ]
  },
  {
   "cell_type": "markdown",
   "metadata": {},
   "source": [
    "#### Given privately sampled (by diffusion) SP, expand them using KDE and pre-selected bandwidth."
   ]
  },
  {
   "cell_type": "code",
   "execution_count": null,
   "metadata": {},
   "outputs": [],
   "source": [
    "ALPHA = 100\n",
    "STEP_SIZE = 1e-2\n",
    "\n",
    "FULL_SAMPLE_SIZE = M\n",
    "PLOT = 1"
   ]
  },
  {
   "cell_type": "code",
   "execution_count": null,
   "metadata": {},
   "outputs": [],
   "source": [
    "# Show data and y_tilde.\n",
    "bandwidths = [SIGMA_DATA * 4, SIGMA_DATA, SIGMA_DATA / 4]\n",
    "n_bw = len(bandwidths)\n",
    "\n",
    "fig, axs = plt.subplots(1, n_bw, figsize=(3 * n_bw, 3))\n",
    "\n",
    "for i, bw in enumerate(bandwidths):\n",
    "    np.random.seed(234)\n",
    "    (y_tilde,\n",
    "     y_tilde_upsampled,\n",
    "     y_tilde_expansion) = sample_full_set_by_diffusion(e_opt, energy_sensitivity,\n",
    "                                                       x, y_opt, STEP_SIZE, ALPHA,\n",
    "                                                       bw, FULL_SAMPLE_SIZE, \n",
    "                                                       plot=False, diffusion_mean=True)\n",
    "\n",
    "    axs[i].set_title(r'$\\sigma$={:.3f}'.format(bw))\n",
    "    axs[i].scatter(x[:, 0], x[:, 1], c='gray', alpha=0.3)\n",
    "    axs[i].scatter(y_opt[:, 0], y_opt[:, 1], c='limegreen', alpha=0.7)\n",
    "    axs[i].scatter(y_tilde[:, 0], y_tilde[:, 1], c='red', alpha=0.7)\n",
    "    axs[i].scatter(y_tilde_expansion[:, 0], y_tilde_expansion[:, 1],\n",
    "                   c='blue', alpha=0.2)\n",
    "    axs[i].set_xlim((0, 1))\n",
    "    axs[i].set_ylim((0, 1))\n",
    "        \n",
    "plt.subplots_adjust(wspace=0.2, hspace=0.2,\n",
    "                    bottom=0.1, top=0.9, left=0.05, right=0.95)\n",
    "plt.savefig('../output/fig_kde_fixed_bandwidth.png')"
   ]
  },
  {
   "cell_type": "markdown",
   "metadata": {},
   "source": [
    "## 6.1 KDE with DP-MLE bandwidth."
   ]
  },
  {
   "cell_type": "markdown",
   "metadata": {},
   "source": [
    "#### Compute likelihood over a range of bandwidths, and compute likelihood for each."
   ]
  },
  {
   "cell_type": "code",
   "execution_count": null,
   "metadata": {},
   "outputs": [],
   "source": [
    "ALPHA = 5\n",
    "STEP_SIZE = 1e-2\n",
    "\n",
    "PLOT = 1"
   ]
  },
  {
   "cell_type": "code",
   "execution_count": null,
   "metadata": {
    "scrolled": true
   },
   "outputs": [],
   "source": [
    "np.random.seed(123)\n",
    "ys, es, _ = sample_sp_exp_mech(e_opt, energy_sensitivity, x, y_opt,\n",
    "                               'diffusion', STEP_SIZE, num_y_tildes=1,\n",
    "                               alpha=ALPHA, diffusion_mean=True)\n",
    "y_tilde = ys[0]\n",
    "\n",
    "# Sample from mixture model centered on noisy support points.\n",
    "choices = np.random.choice(range(len(y_tilde)), size=M)\n",
    "y_tilde_upsampled = y_tilde[choices]\n",
    "\n",
    "\n",
    "# Find optimal bandwidth using Maximum Likelihood.\n",
    "BW_HIGH = 0.05\n",
    "BW_LOW = 0.0001\n",
    "NUM_BANDWIDTHS = 20\n",
    "BW_RANGE = np.linspace(BW_HIGH, BW_LOW, NUM_BANDWIDTHS)\n",
    "\n",
    "# Store bandwidth and likelihood pairs.\n",
    "bw_lik = np.zeros((NUM_BANDWIDTHS, 2))\n",
    "\n",
    "# Measure data likelihood under models centered on private support\n",
    "# points, with a range of bandwidths.\n",
    "for i, bw in enumerate(BW_RANGE): \n",
    "    #lik, do_log = mixture_model_likelihood(x, y_tilde, bw)\n",
    "    lik, do_log = mixture_model_likelihood(x, y_tilde, bw)\n",
    "    \n",
    "    bw_lik[i] = [bw, lik]\n",
    "\n",
    "\n",
    "# Print and plot all bandwidth-likelihood pairs.\n",
    "bw_best, bw_best_lik = bw_lik[np.argmax(bw_lik, axis=0)[1]]\n",
    "bw_worst, bw_worst_lik = bw_lik[np.argmin(bw_lik, axis=0)[1]]"
   ]
  },
  {
   "cell_type": "code",
   "execution_count": null,
   "metadata": {
    "scrolled": true
   },
   "outputs": [],
   "source": [
    "# Plot results for various bandwidths.\n",
    "lik_str = 'llik' if do_log else 'lik'\n",
    "for bw, lik in bw_lik:\n",
    "    print('bw: {:.6f}, {}: {:.2e}'.format(bw, lik_str, lik))\n",
    "plt.plot(bw_lik[:, 0], bw_lik[:, 1])\n",
    "plt.scatter(bw_best, bw_best_lik, label='max lik')\n",
    "plt.xlabel('bandwidth')\n",
    "plt.ylabel(lik_str)\n",
    "plt.title('MLE, $\\sigma$={:.5f}, $\\hat{{\\sigma}}$={:.5f}, {}={:.3e}'.format(\n",
    "    SIGMA_DATA, bw_best, lik_str, bw_best_lik))\n",
    "plt.legend()\n",
    "plt.savefig('../output/fig_kde_mle_bw.png')\n",
    "plt.show()"
   ]
  },
  {
   "cell_type": "markdown",
   "metadata": {},
   "source": [
    "#### Show samples with best and worst bandwidth."
   ]
  },
  {
   "cell_type": "code",
   "execution_count": null,
   "metadata": {
    "scrolled": true
   },
   "outputs": [],
   "source": [
    "# Compare to likelihoods of data and optimal support points.\n",
    "lik_y_opt, _ = mixture_model_likelihood(x, y_opt, bw_best,\n",
    "                                        tag='Y_OPT, best bw: ')\n",
    "lik_y_tilde, _ = mixture_model_likelihood(x, y_tilde, bw_best,\n",
    "                                          tag='Y_TILDE, best bw: ')\n",
    "print('do_log: {}'.format(do_log))\n",
    "print('P(x | y_opt, bw_best): {:.2e}'.format(lik_y_opt))\n",
    "print('P(x | y_tilde, bw_best): {:.2e}'.format(lik_y_tilde))\n",
    "\n",
    "\n",
    "# Plot results.\n",
    "new_sample_best = (\n",
    "    y_tilde_upsampled + np.random.normal(0, bw_best,\n",
    "                                         size=(FULL_SAMPLE_SIZE, x.shape[1])))\n",
    "new_sample_worst = (\n",
    "    y_tilde_upsampled + np.random.normal(0, bw_worst,\n",
    "                                         size=(FULL_SAMPLE_SIZE, x.shape[1])))\n",
    "\n",
    "\n",
    "if PLOT:\n",
    "    plt.scatter(x[:, 0], x[:, 1], c='gray', alpha=0.3, label='data')\n",
    "    plt.scatter(y_opt[:, 0], y_opt[:, 1], c='limegreen', alpha=0.7,\n",
    "                label='sp(data)')\n",
    "    plt.scatter(y_tilde[:, 0], y_tilde[:, 1], c='red', alpha=0.7,\n",
    "                label='~sp(data)')\n",
    "    plt.scatter(new_sample_best[:, 0], new_sample_best[:, 1], c='blue', alpha=0.3,\n",
    "                label='FULL')\n",
    "\n",
    "    plt.title((r'Best full sample. $\\sigma$={:.5f}, '\n",
    "               '$\\hat{{\\sigma}}$={:.5f}, lik={:.2e}').format(SIGMA_DATA,\n",
    "                                                             bw_best,\n",
    "                                                             bw_best_lik))\n",
    "    plt.legend(loc='center left', bbox_to_anchor=(1, 0.5))\n",
    "    plt.gca().set_aspect('equal', adjustable='box')\n",
    "    plt.show()\n",
    "\n",
    "\n",
    "    plt.scatter(x[:, 0], x[:, 1], c='gray', alpha=0.3, label='data')\n",
    "    plt.scatter(y_opt[:, 0], y_opt[:, 1], c='limegreen', alpha=0.7,\n",
    "                label='sp(data)')\n",
    "    plt.scatter(y_tilde[:, 0], y_tilde[:, 1], c='red', alpha=0.7,\n",
    "                label='~sp(data)')\n",
    "    plt.scatter(new_sample_worst[:, 0], new_sample_worst[:, 1], c='blue',\n",
    "                alpha=0.3, label='FULL')\n",
    "\n",
    "    plt.title((r'Worst full sample. $\\sigma$={:.5f}, '\n",
    "                '$\\hat{{\\sigma}}$={:.5f}, lik={:.2e}').format(SIGMA_DATA,\n",
    "                                                              bw_worst,\n",
    "                                                              bw_worst_lik))\n",
    "    plt.legend(loc='center left', bbox_to_anchor=(1, 0.5))\n",
    "    plt.gca().set_aspect('equal', adjustable='box')\n",
    "    plt.show()"
   ]
  },
  {
   "cell_type": "markdown",
   "metadata": {},
   "source": [
    "#### Sample full synthetic set with DP sample of MLE bandwidth."
   ]
  },
  {
   "cell_type": "markdown",
   "metadata": {},
   "source": [
    "In this setting, for positive bandwidth $\\sigma$, Gaussian data up to $4\\sigma$ is bounded on $[0, 1]$ by restricting cluster centers to $[0 + 4\\sigma, 1 - 4\\sigma]$. The largest $\\sigma$ that accommodates this bound is $\\sigma = 1/8$. With sensitivity $\\Delta f = 1/8$, we sample a DP bandwidth $\\tilde{\\sigma} \\sim \\mbox{Lap}(\\sigma, \\frac{1/8}{\\alpha})$, and enforce a non-trivially small positive floor value $\\delta$, with $\\max(\\tilde{\\sigma}, \\delta)$."
   ]
  },
  {
   "cell_type": "code",
   "execution_count": null,
   "metadata": {
    "scrolled": true
   },
   "outputs": [],
   "source": [
    "dp_bandwidths = []\n",
    "floor = 1e-3\n",
    "n_bw = 4\n",
    "\n",
    "for _ in range(n_bw):\n",
    "    dp_bandwidth_raw = bw_best + np.random.laplace(loc=0, scale=(1 / 8) / ALPHA)\n",
    "    dp_bandwidth = np.max([dp_bandwidth_raw, floor])\n",
    "    dp_bandwidths.append(dp_bandwidth)\n",
    "    print('\\nBest bw: {:>14.6f}\\nraw DP bw: {:>12.6f}\\nCorrected DP bw: {:>1.6f}'.format(\n",
    "            bw_best, dp_bandwidth_raw, dp_bandwidth))\n",
    "\n",
    "\n",
    "\n",
    "fig, axs = plt.subplots(1, n_bw, figsize=(3 * n_bw, 3))\n",
    "\n",
    "for i, bw in enumerate(dp_bandwidths):\n",
    "    y_tilde_expansion = (\n",
    "        y_tilde_upsampled +\n",
    "        np.random.normal(0, bw, size=(FULL_SAMPLE_SIZE, x.shape[1])))\n",
    "    \n",
    "    \n",
    "    #(y_tilde,\n",
    "    # y_tilde_upsampled,\n",
    "    # y_tilde_expansion) = sample_full_set_by_diffusion(e_opt, energy_sensitivity,\n",
    "    #                                                   x, y_opt, STEP_SIZE, ALPHA,\n",
    "    #                                                   bw, FULL_SAMPLE_SIZE, \n",
    "    #                                                   plot=False, diffusion_mean=True)\n",
    "\n",
    "    axs[i].set_title(r'$\\sigma$={:.6f}'.format(bw))\n",
    "    axs[i].scatter(x[:, 0], x[:, 1], c='gray', alpha=0.3)\n",
    "    axs[i].scatter(y_tilde[:, 0], y_tilde[:, 1], c='red', alpha=0.7)\n",
    "    axs[i].scatter(y_tilde_expansion[:, 0], y_tilde_expansion[:, 1],\n",
    "                   c='blue', alpha=0.2)\n",
    "    axs[i].set_xlim((0, 1))\n",
    "    axs[i].set_ylim((0, 1))\n",
    "        \n",
    "plt.subplots_adjust(wspace=0.2, hspace=0.2,\n",
    "                    bottom=0.1, top=0.9, left=0.05, right=0.95)\n",
    "plt.savefig('../output/fig_kde_dp_mle.png')"
   ]
  },
  {
   "cell_type": "markdown",
   "metadata": {},
   "source": [
    "## (CUT?) 6.2 KDE with DP median of pairwise distances as bandwidth."
   ]
  },
  {
   "cell_type": "markdown",
   "metadata": {},
   "source": [
    "Choose W based on data (median heuristics). Add DP noise to W, i.e. add $\\eta \\sim \\mbox{Lap}(2^{(1/p)} / 2)$. Get SP with MMD_W. Do KDE with W. <- WITH WHAT BANDWIDTH?"
   ]
  },
  {
   "cell_type": "code",
   "execution_count": null,
   "metadata": {},
   "outputs": [],
   "source": [
    "# Show data and y_tilde.\n",
    "ALPHA=1000\n",
    "STEP_SIZE = 2e-3\n",
    "SAMPLE_SIZE = M\n",
    "\n",
    "\n",
    "# Compute median of pairwise distanes, and use that as bandwidth.\n",
    "median_pairwise_dists = np.median(pdist(x, 'minkowski', p=ENERGY_POWER))\n",
    "sensitivity_median_pairwise_dists = DIM ** (1. / ENERGY_POWER) / 2.\n",
    "private_median = (median_pairwise_dists +\n",
    "                  np.random.laplace(\n",
    "                      scale=sensitivity_median_pairwise_dists / ALPHA))\n",
    "print(median_pairwise_dists)\n",
    "print(private_median)\n",
    "BANDWIDTH = private_median\n",
    "\n",
    "# Sample support points using private median.\n",
    "# First  : Derive support points using MMD with private median.\n",
    "# Second : Expand using kernel density estimator.\n",
    "np.random.seed(234)\n",
    "(y_tilde,\n",
    " y_tilde_upsampled,\n",
    " y_tilde_expansion) = sample_full_set_by_diffusion(e_opt, energy_sensitivity,\n",
    "                                                   x, y_opt, STEP_SIZE, ALPHA,\n",
    "                                                   BANDWIDTH, SAMPLE_SIZE)\n",
    "\n",
    "plt.scatter(x[:, 0], x[:, 1], c='gray', alpha=0.3, label='data')\n",
    "plt.scatter(y_tilde[:, 0], y_tilde[:, 1], c='red', alpha=0.7, label='~sp(data)')\n",
    "plt.scatter(y_tilde_expansion[:, 0], y_tilde_expansion[:, 1], c='blue', \n",
    "            alpha=0.3, label='FULL')\n",
    "\n",
    "plt.title('Diffusion, PRE-SELECTED w = {}'.format(BANDWIDTH))\n",
    "plt.legend(loc='center left', bbox_to_anchor=(1, 0.5))\n",
    "plt.xlim(0, 1)\n",
    "plt.ylim(0, 1)\n",
    "plt.gca().set_aspect('equal', adjustable='box')\n",
    "plt.show()\n"
   ]
  },
  {
   "cell_type": "markdown",
   "metadata": {},
   "source": [
    "## 6.3 Repeated draws of private support points."
   ]
  },
  {
   "cell_type": "code",
   "execution_count": null,
   "metadata": {
    "scrolled": false
   },
   "outputs": [],
   "source": [
    "ALPHA = 50\n",
    "STEP_SIZE = 5e-3\n",
    "\n",
    "BANDWIDTH = SIGMA_DATA\n",
    "NUM_REPEATS = int(M / N) + 1\n",
    "\n",
    "\n",
    "new_sample = []\n",
    "\n",
    "for i in range(NUM_REPEATS):\n",
    "    (y_tilde,\n",
    "     y_tilde_upsampled,\n",
    "     y_tilde_expansion) = sample_full_set_by_diffusion(e_opt, energy_sensitivity,\n",
    "                                                       x, y_opt, STEP_SIZE,\n",
    "                                                       ALPHA, BANDWIDTH,\n",
    "                                                       FULL_SAMPLE_SIZE)\n",
    "    new_sample.append(y_tilde)\n",
    "\n",
    "\n",
    "new_sample = np.concatenate(new_sample)\n",
    "\n",
    "print('\\nConcatenating results, and plotting collection of samples as one.\\n')\n",
    "print('Diffusion, alpha={}, repeats={}, budget={},\\n n={}, bw={}'.format(\n",
    "    ALPHA, NUM_REPEATS, ALPHA * float(NUM_REPEATS), len(new_sample),\n",
    "    BANDWIDTH))\n",
    "\n",
    "plt.scatter(x[:, 0], x[:, 1], c='gray', alpha=0.3, label='data')\n",
    "# plt.scatter(y_tilde[:, 0], y_tilde[:, 1], c='red', alpha=0.7, label='~sp(data)')\n",
    "plt.scatter(new_sample[:, 0], new_sample[:, 1], c='red', alpha=0.3, label='FULL')\n",
    "#plt.title('Diffusion, alpha={}, repeats={}, budget={},\\n n={}, bw={}'.format(\n",
    "#    ALPHA, NUM_REPEATS, ALPHA * float(NUM_REPEATS), len(new_sample),\n",
    "#    BANDWIDTH))\n",
    "#plt.legend(loc='center left', bbox_to_anchor=(1, 0.5))\n",
    "#plt.xlim(0, 1)\n",
    "#plt.ylim(0, 1)\n",
    "plt.gca().set_aspect('equal', adjustable='box')\n",
    "plt.tight_layout()\n",
    "plt.savefig('../output/fig_repeated_samples.png')\n",
    "plt.show()"
   ]
  },
  {
   "cell_type": "markdown",
   "metadata": {},
   "source": [
    "# End."
   ]
  },
  {
   "cell_type": "code",
   "execution_count": null,
   "metadata": {},
   "outputs": [],
   "source": []
  }
 ],
 "metadata": {
  "kernelspec": {
   "display_name": "Python 3",
   "language": "python",
   "name": "python3"
  },
  "language_info": {
   "codemirror_mode": {
    "name": "ipython",
    "version": 3
   },
   "file_extension": ".py",
   "mimetype": "text/x-python",
   "name": "python",
   "nbconvert_exporter": "python",
   "pygments_lexer": "ipython3",
   "version": "3.5.2"
  }
 },
 "nbformat": 4,
 "nbformat_minor": 1
}
