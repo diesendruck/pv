{
 "cells": [
  {
   "cell_type": "markdown",
   "metadata": {},
   "source": [
    "# Support points with Exponential Mechanism + Grid-Walk"
   ]
  },
  {
   "cell_type": "markdown",
   "metadata": {},
   "source": [
    "___"
   ]
  },
  {
   "cell_type": "code",
   "execution_count": null,
   "metadata": {
    "scrolled": true
   },
   "outputs": [],
   "source": [
    "%matplotlib inline\n",
    "\n",
    "import math\n",
    "import matplotlib\n",
    "import matplotlib.pyplot as plt\n",
    "import numpy as np\n",
    "import os\n",
    "import pdb\n",
    "from scipy.spatial.distance import pdist\n",
    "import sys\n",
    "import tensorflow as tf\n",
    "import time\n",
    "\n",
    "from data import load_balog_data\n",
    "from sp_utils import (\n",
    "    get_support_points,\n",
    "    get_energy_sensitivity,\n",
    "    sample_sp_exp_mech,\n",
    "    sample_sp_exp_mech_gridwalk)\n",
    "\n",
    "matplotlib.rcParams.update({'font.size': 14})\n",
    "plt.style.use('ggplot')\n",
    "print(sys.version)\n",
    "print(tf.__version__)"
   ]
  },
  {
   "cell_type": "markdown",
   "metadata": {},
   "source": [
    "____"
   ]
  },
  {
   "cell_type": "markdown",
   "metadata": {},
   "source": [
    "# 1. Global Config"
   ]
  },
  {
   "cell_type": "markdown",
   "metadata": {},
   "source": [
    "Note: Exponential samples (i.e. energy distances) are smaller with:\n",
    "  - large privacy budget, $\\alpha$\n",
    "  - small sensitivity, $\\Delta f$\n",
    "  - small dimensionality, $d$\n",
    "  - large energy exponent, $p$\n",
    "  - large support point set, $N$"
   ]
  },
  {
   "cell_type": "code",
   "execution_count": null,
   "metadata": {
    "scrolled": true
   },
   "outputs": [],
   "source": [
    "# Set global constants.          # main1()\n",
    "IS_TF = True                     # Boolean. Use TensorFlow rather than analytical gradients.\n",
    "Y_INIT_OPTION = 'random'         # ['grid', 'random', 'radial']\n",
    "MAX_ITER = 301                   # Num iterations in each support point optimization. [301]\n",
    "LR = 1e-2                        # Energy optimization learning rate. [1e-2]\n",
    "\n",
    "NUM_DATA = 200                   # Number of data points. [200]\n",
    "DIM = 2                          # Dimension of data. [2]\n",
    "C = 10                           # Number of clusters in data. [10]\n",
    "SIGMA_DATA = 0.03                # Bandwidth of data. [0.03]\n",
    "\n",
    "NUM_SUPP = 10                    # Number of support points. [10]\n",
    "ENERGY_POWER = 2                # Power for energy distance kernel. [2]"
   ]
  },
  {
   "cell_type": "markdown",
   "metadata": {},
   "source": [
    "___"
   ]
  },
  {
   "cell_type": "markdown",
   "metadata": {},
   "source": [
    "# 2. Load Data"
   ]
  },
  {
   "cell_type": "code",
   "execution_count": null,
   "metadata": {
    "scrolled": true
   },
   "outputs": [],
   "source": [
    "# Load data.\n",
    "np.random.seed(123)\n",
    "x = load_balog_data(NUM_DATA, DIM, C, SIGMA_DATA, make_new=True, do_weighted=True)\n",
    "#x = np.load('../../RKHS-private-database/data/mixture_of_Gaussians_N1000_D2_C10_SIG0.03.npz')['X_private']\n",
    "print(x.shape)"
   ]
  },
  {
   "cell_type": "markdown",
   "metadata": {},
   "source": [
    "___"
   ]
  },
  {
   "cell_type": "markdown",
   "metadata": {},
   "source": [
    "# 3. Run Support Point Optimization"
   ]
  },
  {
   "cell_type": "code",
   "execution_count": null,
   "metadata": {
    "scrolled": false
   },
   "outputs": [],
   "source": [
    "# Compute m support points on full set.\n",
    "y_opt, e_opt = get_support_points(x, NUM_SUPP, MAX_ITER, LR, is_tf=IS_TF,\n",
    "                                  power=ENERGY_POWER, y_init_option=Y_INIT_OPTION)  # NOTE: Power=2 to derive optimal SP."
   ]
  },
  {
   "cell_type": "markdown",
   "metadata": {},
   "source": [
    "___"
   ]
  },
  {
   "cell_type": "markdown",
   "metadata": {},
   "source": [
    "## 4. Sample support points with Exponential Mechanism + Grid-Walk"
   ]
  },
  {
   "cell_type": "code",
   "execution_count": null,
   "metadata": {},
   "outputs": [],
   "source": [
    "ALPHA = 100\n",
    "energy_sensitivity = get_energy_sensitivity(x, NUM_SUPP, power=ENERGY_POWER)\n",
    "\n",
    "y_t, energy_t = sample_sp_exp_mech_gridwalk(\n",
    "    energy_sensitivity, y_opt, x, alpha=ALPHA, power=ENERGY_POWER)"
   ]
  },
  {
   "cell_type": "code",
   "execution_count": null,
   "metadata": {},
   "outputs": [],
   "source": [
    "plt.scatter(x[:, 0], x[:, 1], c='gray', alpha=0.3,\n",
    "                        label='data')\n",
    "plt.scatter(y_opt[:, 0], y_opt[:, 1], c='limegreen',\n",
    "            label='sp(data)')\n",
    "plt.scatter(y_t[:, 0], y_t[:, 1], c='red', alpha=1,\n",
    "            label='~sp(data)', marker='+')\n",
    "plt.xlim(0, 1)\n",
    "plt.ylim(0, 1)\n",
    "plt.title('iter {}, alpha={}, e={:.4f}'.format(i, ALPHA, energy_t))\n",
    "plt.gca().set_aspect('equal', adjustable='box')\n",
    "plt.tight_layout()\n",
    "plt.savefig('../output/priv_sp_sample_gridwalk.png')\n",
    "plt.show()\n",
    "plt.close()"
   ]
  },
  {
   "cell_type": "code",
   "execution_count": null,
   "metadata": {},
   "outputs": [],
   "source": [
    "# Still have the rejection sampling step..."
   ]
  }
 ],
 "metadata": {
  "kernelspec": {
   "display_name": "Python 3",
   "language": "python",
   "name": "python3"
  },
  "language_info": {
   "codemirror_mode": {
    "name": "ipython",
    "version": 3
   },
   "file_extension": ".py",
   "mimetype": "text/x-python",
   "name": "python",
   "nbconvert_exporter": "python",
   "pygments_lexer": "ipython3",
   "version": "3.5.2"
  }
 },
 "nbformat": 4,
 "nbformat_minor": 1
}
