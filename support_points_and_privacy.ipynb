{
 "cells": [
  {
   "cell_type": "markdown",
   "metadata": {},
   "source": [
    "# Support Points and Privacy"
   ]
  },
  {
   "cell_type": "markdown",
   "metadata": {},
   "source": [
    "_____"
   ]
  },
  {
   "cell_type": "code",
   "execution_count": 1,
   "metadata": {},
   "outputs": [],
   "source": [
    "# Toggle which experiments to run.\n",
    "DO_EXPERIMENT_SP = 1\n",
    "DO_EXPERIMENT_TF = 0"
   ]
  },
  {
   "cell_type": "markdown",
   "metadata": {},
   "source": [
    "## PART 1: \n",
    "## Empirical distance between support points Y and leave-one-out \\[LOO\\] support points (Y')"
   ]
  },
  {
   "cell_type": "markdown",
   "metadata": {},
   "source": [
    "\"\"\"\n",
    "Computes max discrepancy of support points due to single-point omission.\n",
    "\n",
    "For data X, and support points Y:\n",
    "M(X, m) --> Y\n",
    "M(X', m) --> Y'\n",
    "Compute Pr(d(Y, Y') > eps) < delta\n",
    "\n",
    "let eps = (1-delta)th percentile of max_discrepancies\n",
    "\"\"\"\n"
   ]
  },
  {
   "cell_type": "code",
   "execution_count": 2,
   "metadata": {},
   "outputs": [],
   "source": [
    "%matplotlib inline\n",
    "\n",
    "import argparse\n",
    "import math\n",
    "import matplotlib.pyplot as plt\n",
    "plt.style.use('ggplot')\n",
    "import numpy as np\n",
    "import os\n",
    "import pdb\n",
    "import sys\n",
    "import time\n",
    "import tensorflow as tf\n",
    "\n",
    "from scipy.stats import ks_2samp"
   ]
  },
  {
   "cell_type": "code",
   "execution_count": 3,
   "metadata": {},
   "outputs": [],
   "source": [
    "def sample_gaussian(n):\n",
    "    mean, loc = 0, 1\n",
    "    return np.random.normal(mean, loc, n)\n",
    "\n",
    "def sample_gamma(n):\n",
    "    k, theta = 1, 10\n",
    "    return np.random.gamma(k, theta, n)"
   ]
  },
  {
   "cell_type": "code",
   "execution_count": 4,
   "metadata": {},
   "outputs": [],
   "source": [
    "def generate_data(n, data_source):\n",
    "    '''Generates data.\n",
    "    Args:\n",
    "      n: Number of data candidates.\n",
    "      data_source: String flag for which data_source to use.\n",
    "    Returns:\n",
    "      data: Numpy array of points.\n",
    "    '''\n",
    "    if data_source == 'gaussian':\n",
    "        two_modes = 0\n",
    "        if two_modes:\n",
    "            n_c2 = n/2\n",
    "            n_c1 = n - n_c2\n",
    "            data = np.concatenate((np.random.normal(0, 1, n_c1),\n",
    "                                   np.random.normal(6, 1, n_c2)))\n",
    "        else:\n",
    "            data = sample_gaussian(n)\n",
    "    elif data_source == 'gaussian_with_outlier':\n",
    "        n_c1 = 1\n",
    "        n_c2 = 0\n",
    "        n_c3 = n - (n_c1 + n_c2)\n",
    "        data = np.concatenate((np.random.normal(8, 1, n_c1),\n",
    "                               np.random.normal(-8, 1, n_c2),\n",
    "                               np.random.normal(0, 1, n_c3)))\n",
    "    elif data_source == 'gamma':\n",
    "        data = sample_gamma(n)\n",
    "    elif data_source == 'file':\n",
    "        with open('samp.dat') as f:\n",
    "            data = [line.split() for line in f]\n",
    "            data = np.array([float(d[1]) for d in data if len(d) == 2])\n",
    "    elif data_source == 'correlated':\n",
    "        data = np.zeros(n)\n",
    "        data[0] = np.random.normal()\n",
    "        for i in xrange(1, n):\n",
    "            data[i] = (data[i - 1] * corr +\n",
    "                np.sqrt(1 - corr**2) * np.random.normal())\n",
    "\n",
    "        plt.subplot(211);\n",
    "        plt.plot(data)\n",
    "        plt.subplot(212);\n",
    "        plt.hist(data, 30)\n",
    "        plt.savefig('orig_data.png'); plt.close()\n",
    "\n",
    "        if test_correlated:\n",
    "            x_bars = []\n",
    "            for i in range(1000):\n",
    "                data = np.zeros(n)\n",
    "                data[0] = np.random.normal()\n",
    "                for i in xrange(1, n):\n",
    "                    data[i] = (data[i - 1] * corr +\n",
    "                        np.sqrt(1 - corr**2) * np.random.normal())\n",
    "                x_bars.append(np.mean(\n",
    "                    np.random.choice(data, num_support, replace=False)))\n",
    "            print('num support = {}'.format(num_support))\n",
    "            print('1/{} = {}'.format(num_support, 1./num_support))\n",
    "            print('var(x_bars) = {}'.format(np.var(x_bars)))\n",
    "            sys.exit('exited on test_correlated within generate_data')\n",
    "    else:\n",
    "        sys.exit('--data_source not valid')\n",
    "        \n",
    "    return data"
   ]
  },
  {
   "cell_type": "code",
   "execution_count": null,
   "metadata": {},
   "outputs": [],
   "source": [
    "def energy(data, gen, sigma=1.):\n",
    "    '''Computes abbreviated energy statistic between two point sets.\n",
    "    \n",
    "    The smaller the value, the closer the sets.\n",
    "    Args:\n",
    "      data: 1D numpy array of any length, e.g. 100.\n",
    "      gen: 1D numpy array of any length, e.g. 10.\n",
    "      sigma: Float, kernel lengthscale.\n",
    "    Returns:\n",
    "      e: Scalar, the energy between the sets.\n",
    "      mmd: Scalar, the mmd between the sets.\n",
    "      gradients_e: Numpy array of energy gradients for each proposal point.\n",
    "      gradients_mmd: Numpy array of mmdgradients for each proposal point.\n",
    "    '''\n",
    "    x = sorted(list(data))\n",
    "    y = sorted(list(gen))\n",
    "    data_num = len(x)\n",
    "    gen_num = len(y)\n",
    "    num_combos_xx = data_num * (data_num - 1) / 2.\n",
    "    num_combos_yy = gen_num * (gen_num - 1) / 2.\n",
    "\n",
    "\n",
    "    # Compute energy.\n",
    "    v = np.concatenate((x, y), 0)\n",
    "    v_vert = v.reshape(-1, 1)\n",
    "    v_tiled = np.tile(v_vert, (1, len(v)))\n",
    "    pairwise_difs = v_tiled - np.transpose(v_tiled)\n",
    "    energy = abs(pairwise_difs)\n",
    "    energy_xx = energy[:data_num, :data_num]\n",
    "    energy_yy = energy[data_num:, data_num:]\n",
    "    energy_yx = energy[data_num:, :data_num]\n",
    "    e = (2. / gen_num / data_num * np.sum(energy_yx) -\n",
    "         1. / data_num / data_num * np.sum(energy_xx) -\n",
    "         1. / gen_num / gen_num * np.sum(energy_yy))\n",
    "\n",
    "    \"\"\"\n",
    "    # Compute MMD.\n",
    "    pairwise_prods = np.matmul(v_vert, np.transpose(v_vert))\n",
    "    sqs_vert = np.reshape(np.diag(pairwise_prods), [-1, 1])\n",
    "    sqs_vert_tiled_horiz = np.tile(sqs_vert, (1, data_num + gen_num))\n",
    "    exp_object = (sqs_vert_tiled_horiz - 2 * pairwise_prods +\n",
    "                  np.transpose(sqs_vert_tiled_horiz))\n",
    "    \n",
    "    K = np.exp(-0.5 / sigma * exp_object)\n",
    "    K_xx = K[:data_num, :data_num]\n",
    "    K_yy = K[data_num:, data_num:]\n",
    "    K_xy = K[:data_num, data_num:]\n",
    "    K_xx_upper = np.triu(K_xx, 1)\n",
    "    K_yy_upper = np.triu(K_yy, 1)\n",
    "    mmd = (1. / num_combos_xx * np.sum(K_xx_upper) +\n",
    "           1. / num_combos_yy * np.sum(K_yy_upper) -\n",
    "           2. / data_num / gen_num * np.sum(K_xy))\n",
    "    \"\"\"\n",
    "\n",
    "    # Compute energy gradients.\n",
    "    # TODO: CHECK WHETHER THIS GRADIENT IS CORRECT.\n",
    "    signed = np.sign(pairwise_difs)\n",
    "    signed_yx = signed[data_num:, :data_num]\n",
    "    signed_yy = signed[data_num:, data_num:]\n",
    "    gradients_e = []\n",
    "    for i in range(gen_num):\n",
    "        grad_yi = (2. / gen_num / data_num * sum(signed_yx[i]) - \n",
    "                   2. / gen_num / gen_num * sum(signed_yy[i]))\n",
    "        gradients_e.append(grad_yi)\n",
    "    gradients_e[0] *= 2\n",
    "    gradients_e[-1] *= 2\n",
    "    \n",
    "    \"\"\"\n",
    "    # Compute MMD gradients.\n",
    "    mmd_grad = K * (-1. / sigma * pairwise_difs)\n",
    "    mmd_grad_yx = mmd_grad[data_num:, :data_num] \n",
    "    mmd_grad_yy = mmd_grad[data_num:, data_num:] \n",
    "    mmd_grad_yy_upper = np.triu(mmd_grad_yy, 1)\n",
    "    gradients_mmd = []\n",
    "    for i in range(gen_num):\n",
    "        grad_yi = (1. / num_combos_yy * \n",
    "                       (sum(mmd_grad_yy_upper[i]) -\n",
    "                        sum(mmd_grad_yy_upper[:, i])) -\n",
    "                   2. / gen_num / data_num * sum(mmd_grad_yx[i]))\n",
    "                   \n",
    "        gradients_mmd.append(grad_yi)\n",
    "    \"\"\"\n",
    "\n",
    "    return e, np.array(gradients_e)"
   ]
  },
  {
   "cell_type": "code",
   "execution_count": null,
   "metadata": {},
   "outputs": [],
   "source": [
    "def optimize(data, gen, n=500, learning_rate=1e-2):\n",
    "    '''Runs alternating optimizations, n times through proposal points.\n",
    "    Args:\n",
    "      data: 1D numpy array of any length, e.g. 100.\n",
    "      gen: 1D numpy array of any length, e.g. 10.\n",
    "      n: Scalar, number of times to loop through updates for all vars.\n",
    "      learning_rate: Scalar, amount to move point with each gradient update.\n",
    "      \n",
    "    Returns:\n",
    "      y_out: 2D numpy array of trace of generated proposal points.\n",
    "      e_out: Float, energy between data and last iteration of y_out.\n",
    "    '''\n",
    "    max_tries = 3\n",
    "    tries = 0\n",
    "    valid_output = False\n",
    "\n",
    "    while tries <= max_tries:\n",
    "        y_out = np.zeros((n, len(gen)))\n",
    "        for it in range(n):\n",
    "            e_out, grads_e_ = energy(data, gen) \n",
    "            grads_ = grads_e_\n",
    "            gen -= learning_rate * grads_\n",
    "            y_out[it, :] = gen\n",
    "\n",
    "            if it % save_iter == 0 or it == (n - 1):\n",
    "                if verbose:\n",
    "                    print('  it{}: e: {:.4f}, mmd: {:.4f}'.format(it, e_out, mmd_))\n",
    "                    print('  P: min,med,mean,max: {:2f},{:2f},{:2f},{:2f}'.format(\n",
    "                        np.min(data), np.median(data), np.mean(data),\n",
    "                        np.max(data)))\n",
    "                    g = y_out[it]\n",
    "                    print('  G: min,med,mean,max: {:2f},{:2f},{:2f},{:2f}'.format(\n",
    "                        np.min(g), np.median(g), np.mean(g), np.max(g)))\n",
    "        \n",
    "        tries += 1\n",
    "        if e_out < 5:\n",
    "            valid_output = True\n",
    "            break\n",
    "        else:\n",
    "            print('REDOing optimize after e_={:.2f}'.format(e_out))\n",
    "\n",
    "    # At this point, optimization did not converge. Set symbolic \"bad\" value.\n",
    "    if not valid_output:\n",
    "        e_out = -999\n",
    "\n",
    "    return y_out, e_out"
   ]
  },
  {
   "cell_type": "code",
   "execution_count": null,
   "metadata": {},
   "outputs": [],
   "source": [
    "def plot_single_run(y_out, e_out, p, num_support,\n",
    "                    percentiles=None):\n",
    "    data_markers_x = [y_out.shape[0]] * len(p)\n",
    "    data_markers_y = p\n",
    "    plt.scatter(data_markers_x, data_markers_y, marker='x', label='data')\n",
    "    plt.plot(y_out, 'k-', alpha=0.3)\n",
    "    if percentiles is not None:\n",
    "        plt.scatter([1.05 * y_out.shape[0]] * y_out.shape[1],\n",
    "                    percentiles, color='blue', label='pct')\n",
    "    plt.legend(loc='upper left')\n",
    "    plt.title('|data|=n={}, |support|=m={}, e(x,y)={:.4f}'.format(\n",
    "              len(p), num_support, e_out))\n",
    "    plt.savefig('support_points_path.png');\n",
    "    plt.show()"
   ]
  },
  {
   "cell_type": "code",
   "execution_count": null,
   "metadata": {},
   "outputs": [],
   "source": [
    "def get_support_points(data, num_support, max_iter, lr, plot=False,\n",
    "                       percentiles=None):\n",
    "    # Initialize generated particles for both sets (x0 and x1).\n",
    "    x = data\n",
    "    y = num_support\n",
    "    \n",
    "    y_orig_offset = 1e-1\n",
    "    y = list(np.linspace(min(x) + y_orig_offset,\n",
    "                         max(x) - y_orig_offset,\n",
    "                         m))\n",
    "   \n",
    "    # Optimize particles for each dataset (x0 and x1).\n",
    "    y_out, e_out = optimize(x, y, n=max_iter, learning_rate=lr)\n",
    "\n",
    "    # Get last updated set as support points.\n",
    "    sp = y_out[-1]\n",
    "    \n",
    "    # Plot optimization.\n",
    "    if plot:\n",
    "        plot_single_run(y_out, e_out, x, m,\n",
    "                        percentiles=percentiles)\n",
    "        \n",
    "    return sp"
   ]
  },
  {
   "cell_type": "code",
   "execution_count": null,
   "metadata": {},
   "outputs": [],
   "source": [
    "def measure_eps(discrepancies, delta):\n",
    "    eps = np.percentile(discrepancies, 100*(1 - delta))\n",
    "    print('\\nPr(d(Y, Y\\') > {:.2f}) < {:.2f}'.format(eps, delta))"
   ]
  },
  {
   "cell_type": "code",
   "execution_count": null,
   "metadata": {},
   "outputs": [],
   "source": [
    "def eval_with_baseline(data_source, max_discs_y_y_,\n",
    "                       max_discs_x_y_, min_pstats_x_y_,\n",
    "                       n, m):\n",
    "    \"\"\"Shows how well support points fit true distribution.\n",
    "    \n",
    "    Compares X_m and Y_m' to distribution X.\n",
    "    \n",
    "    Args:\n",
    "      data_source: String, indicates which distribution to sample.\n",
    "      max_discs_y_y_: Array, privacy discrepancies.\n",
    "      max_discs_x_y_: Array, utility discrepancies.\n",
    "      min_pstats_x_y_: Array, utility KS p-statistics.\n",
    "      n: Int, number of points from reference distribution.\n",
    "      m: Int, number of points from testing distribution.\n",
    "    \"\"\"\n",
    "    if data_source == 'gaussian':\n",
    "        sample = sample_gaussian\n",
    "    elif data_source == 'gamma':\n",
    "        sample = sample_gamma\n",
    "    \n",
    "    # Get discs for X (n samples) and Xm (m samples).\n",
    "    num_trials = len(max_discs_x_y_)\n",
    "    discs_x_xm, pstats_x_xm = (\n",
    "        zip(*(ks_2samp(sample(n), sample(m)) for _ in range(num_trials))))\n",
    "    \n",
    "    # Compare discrepancies.\n",
    "    plt.hist([max_discs_y_y_, max_discs_x_y_, discs_x_xm], histtype='bar',\n",
    "             bins=20, label=['d(Y, Y\\')', 'd(X, Y\\')', 'd(X, X_m)'],\n",
    "             color=['green', 'blue', 'gray'], alpha=0.3)\n",
    "    plt.title('Baseline comparison: KS distances')\n",
    "    plt.legend()\n",
    "    plt.show()\n",
    "    \n",
    "    # Compare p-statistics of Y_m' and X_m, each to X.\n",
    "    plt.hist([pstats_x_xm, min_pstats_x_y_], bins=20,\n",
    "             label=['Xm diff from X?', 'Y\\' diff from X?'],\n",
    "             color=['blue', 'green'], alpha=0.3)\n",
    "    plt.title('Baseline comparison: KS p-stats')\n",
    "    plt.legend()\n",
    "    plt.show()\n",
    "    \n",
    "    tail = 5\n",
    "    print('max_discs_y_y_: {}'.format(np.round(sorted(max_discs_y_y_), 3)[-tail:]))\n",
    "    print('max_discs_x_y_: {}'.format(np.round(sorted(max_discs_x_y_), 3)[-tail:]))\n",
    "    print('max_discs_x_xm_: {}'.format(np.round(sorted(discs_x_xm), 3)[-tail:]))\n",
    "    \n",
    "    print('min_pstats_x_xm: {}'.format(np.round(sorted(pstats_x_xm), 3)[:tail]))\n",
    "    print('min_pstats_x_y_: {}'.format(np.round(sorted(min_pstats_x_y_), 3)[:tail]))\n",
    "    pdb.set_trace()"
   ]
  },
  {
   "cell_type": "code",
   "execution_count": null,
   "metadata": {},
   "outputs": [],
   "source": [
    "def run_trial(data_source, n, m, max_iter, plot=False, single_run=False):\n",
    "    \"\"\"Findssupport point discrepancies due to single-point omission.\n",
    "    \n",
    "    Args:\n",
    "      data_source: String, identifier for dataset to use.\n",
    "      n: Int, number of data points in X. So X' has n-1.\n",
    "      m: Int, number of support points in Y and Y'.\n",
    "      max_iter: Number of iterations in support point optimization.\n",
    "    \"\"\"\n",
    "    # Sample n from reference distribution.\n",
    "    if data_source == 'gaussian':\n",
    "        x = sample_gaussian(n)\n",
    "    elif data_source == 'gamma':\n",
    "        x = sample_gamma(n)\n",
    "    else:\n",
    "        print('Set up fn for unknown data_source')\n",
    "        sys.exit()\n",
    "\n",
    "    # Compute m support points on full set.\n",
    "    percentiles = np.percentile(\n",
    "        x, np.linspace(1./(m+1), 1 - 1./(m+1), m) * 100)  # middle m percentiles\n",
    "    y = get_support_points(x, m, max_iter, lr, plot=plot,\n",
    "                           percentiles=percentiles)\n",
    "    #y = percentiles\n",
    "\n",
    "    # Collect outputs for Y and Y', and for X and Y'.\n",
    "    discs_y_y_ = []\n",
    "    discs_x_y_ = []\n",
    "    pstats_x_y_ = []\n",
    "\n",
    "    # Compare support points on full set vs single-point omission set.\n",
    "    for removed_index in range(n):\n",
    "\n",
    "        # Remove the current index to make the \"neighboring\" set.\n",
    "        x_ = [v for i,v in enumerate(x) if i != removed_index]\n",
    "\n",
    "        # Get support points for each set X, X' and report distance.\n",
    "        plot = True if (plot and removed_index in [0]) else False\n",
    "\n",
    "        percentiles_ = np.percentile(x_, np.linspace(1./(m+1), 1 - 1./(m+1), m) * 100)  # middle m percentiles\n",
    "        y_ = get_support_points(x_, m, max_iter, lr, plot)\n",
    "        #y_ = percentiles_\n",
    "        \n",
    "        # Get dist between full-set and single-point omission support points.\n",
    "        disc_y_y_, _ = ks_2samp(y, y_)\n",
    "        disc_x_y_, pstat_x_y_ = ks_2samp(x, y_)\n",
    "        \n",
    "        # Add results to list for this sample x.\n",
    "        discs_y_y_.append(disc_y_y_)\n",
    "        discs_x_y_.append(disc_x_y_)\n",
    "        pstats_x_y_.append(pstat_x_y_)\n",
    "        \n",
    "        if plot:\n",
    "            # eCDF of Y and Y'.\n",
    "            plt.scatter(x[removed_index], 0.0, label='pt removed')\n",
    "            plt.step(np.sort(y), np.arange(1, len(y) + 1) / float(len(y)),\n",
    "                     label='y', color='blue', alpha=0.7, where='post')\n",
    "            plt.step(np.sort(y_), np.arange(1, len(y_) + 1) / float(len(y_)),\n",
    "                     label='y_', color='green', alpha=0.7, where='post')\n",
    "            plt.legend()\n",
    "            plt.ylim((-0.1, 1.1))\n",
    "            plt.title('CDFs. KS(Ym, Ym_) = {:.3f}'.format(disc_y_y_))\n",
    "            plt.show()\n",
    "            \n",
    "            # eCDF of percentiles and percentiles_.\n",
    "            plt.scatter(x[removed_index], 0.0, label='pt removed')\n",
    "            plt.step(percentiles, np.arange(1, len(percentiles) + 1) / float(len(percentiles)),\n",
    "                     label='pct', color='blue', alpha=0.7, where='post')\n",
    "            plt.step(percentiles_, np.arange(1, len(percentiles_) + 1) / float(len(percentiles_)),\n",
    "                     label='pct_', color='green', alpha=0.7, where='post')\n",
    "            plt.legend()\n",
    "            plt.ylim((-0.1, 1.1))\n",
    "            plt.title('CDFs. Percentiles.'.format(disc_y_y_))\n",
    "            plt.show()\n",
    "            \n",
    "            # eCDF of X and Y'.\n",
    "            plt.scatter(x[removed_index], 0.0, label='pt removed')\n",
    "            plt.step(np.sort(x), np.arange(1, len(x) + 1) / float(len(x)),\n",
    "                     label='x', color='gray', alpha=0.5, where='post')\n",
    "            plt.step(np.sort(y_), np.arange(1, len(y_) + 1) / float(len(y_)),\n",
    "                     label='y_', color='green', alpha=0.7, where='post')\n",
    "            plt.legend()\n",
    "            plt.ylim((-0.1, 1.1))\n",
    "            plt.title('CDFs. KS(Xn, Ym_) = {:.3f}'.format(disc_x_y_))\n",
    "            plt.show()\n",
    "\n",
    "            print('x: {}'.format(np.round(sorted(x), 2)))\n",
    "            print('y: {}'.format(np.round(sorted(y), 2)))\n",
    "            print('y_: {}'.format(np.round(sorted(y_), 2)))\n",
    "\n",
    "        if single_run:\n",
    "            break\n",
    "\n",
    "    return discs_y_y_, discs_x_y_, pstats_x_y_"
   ]
  },
  {
   "cell_type": "markdown",
   "metadata": {},
   "source": [
    "## Run support point vs. LOO support point experiment."
   ]
  },
  {
   "cell_type": "code",
   "execution_count": null,
   "metadata": {
    "scrolled": false
   },
   "outputs": [
    {
     "name": "stdout",
     "output_type": "stream",
     "text": [
      "Run 0\n"
     ]
    },
    {
     "data": {
      "image/png": "[encoded data removed]",
      "text/plain": [
       "<Figure size 432x288 with 1 Axes>"
      ]
     },
     "metadata": {
      "needs_background": "light"
     },
     "output_type": "display_data"
    },
    {
     "data": {
      "image/png": "[encoded data removed]",
      "text/plain": [
       "<Figure size 432x288 with 1 Axes>"
      ]
     },
     "metadata": {
      "needs_background": "light"
     },
     "output_type": "display_data"
    },
    {
     "data": {
      "image/png": "[encoded data removed]",
      "text/plain": [
       "<Figure size 432x288 with 1 Axes>"
      ]
     },
     "metadata": {
      "needs_background": "light"
     },
     "output_type": "display_data"
    },
    {
     "data": {
      "image/png": "[encoded data removed]",
      "text/plain": [
       "<Figure size 432x288 with 1 Axes>"
      ]
     },
     "metadata": {
      "needs_background": "light"
     },
     "output_type": "display_data"
    },
    {
     "data": {
      "image/png": "[encoded data removed]",
      "text/plain": [
       "<Figure size 432x288 with 1 Axes>"
      ]
     },
     "metadata": {
      "needs_background": "light"
     },
     "output_type": "display_data"
    },
    {
     "name": "stdout",
     "output_type": "stream",
     "text": [
      "x: [-2.45 -2.34 -2.27 -2.19 -1.98 -1.86 -1.83 -1.8  -1.58 -1.57 -1.53 -1.1\n",
      " -1.09 -1.05 -1.02 -1.   -0.98 -0.96 -0.95 -0.91 -0.87 -0.82 -0.81 -0.76\n",
      " -0.75 -0.74 -0.74 -0.71 -0.56 -0.55 -0.49 -0.48 -0.45 -0.43 -0.39 -0.38\n",
      " -0.38 -0.37 -0.34 -0.32 -0.32 -0.27 -0.25 -0.24 -0.24 -0.22 -0.21 -0.2\n",
      " -0.2  -0.19 -0.17 -0.16 -0.16 -0.16 -0.15  0.01  0.09  0.1   0.1   0.11\n",
      "  0.22  0.24  0.27  0.3   0.31  0.34  0.37  0.37  0.44  0.45  0.56  0.57\n",
      "  0.68  0.7   0.79  0.79  0.84  0.85  0.94  0.96  1.    1.04  1.12  1.12\n",
      "  1.18  1.21  1.22  1.22  1.22  1.31  1.34  1.36  1.49  1.62  1.7   1.86\n",
      "  2.01  2.1   2.12  2.52]\n",
      "y: [-1.98 -1.01 -0.75 -0.39 -0.23  0.01  0.34  0.79  1.2   1.86]\n",
      "y_: [-1.98 -1.01 -0.74 -0.38 -0.22  0.01  0.34  0.79  1.21  1.86]\n",
      "Run 10\n",
      "Run 20\n",
      "Run 30\n",
      "Run 40\n",
      "Run 50\n",
      "Run 60\n",
      "Run 70\n",
      "Run 80\n",
      "Run 90\n"
     ]
    },
    {
     "data": {
      "image/png": "[encoded data removed]",
      "text/plain": [
       "<Figure size 432x288 with 1 Axes>"
      ]
     },
     "metadata": {
      "needs_background": "light"
     },
     "output_type": "display_data"
    },
    {
     "data": {
      "image/png": "[encoded data removed]",
      "text/plain": [
       "<Figure size 432x288 with 1 Axes>"
      ]
     },
     "metadata": {
      "needs_background": "light"
     },
     "output_type": "display_data"
    },
    {
     "name": "stdout",
     "output_type": "stream",
     "text": [
      "max_discs_y_y_: [0.1 0.1 0.1 0.1 0.1]\n",
      "max_discs_x_y_: [0.07 0.07 0.08 0.08 0.08]\n",
      "max_discs_x_xm_: [0.46 0.47 0.49 0.5  0.54]\n",
      "min_pstats_x_xm: [0.006 0.013 0.016 0.023 0.028]\n",
      "min_pstats_x_y_: [1. 1. 1. 1. 1.]\n",
      "--Return--\n",
      "> <ipython-input-10-8a28c74fffc3>(49)eval_with_baseline()->None\n",
      "-> pdb.set_trace()\n"
     ]
    }
   ],
   "source": [
    "n = 100\n",
    "m = 10\n",
    "lr = 1.\n",
    "max_iter = 100\n",
    "data_source = 'gaussian'\n",
    "\n",
    "num_trials = 100\n",
    "\n",
    "delta = 0.05  # Probability of exposing a single point.\n",
    "corr = 0.8\n",
    "save_iter = 50\n",
    "test_correlated = False\n",
    "verbose = False\n",
    "\n",
    "\n",
    "def main():\n",
    "    start_time =  time.time()\n",
    "    \n",
    "    # Run trials.\n",
    "    max_discs_y_y_ = []\n",
    "    max_discs_x_y_ = []\n",
    "    min_pstats_x_y_ = []\n",
    "\n",
    "    for i in range(num_trials):\n",
    "        if i % 10 == 0:\n",
    "            print('Run {}'.format(i))\n",
    "    \n",
    "        # Get discrepancies for privacy and utility pairs.\n",
    "        plot = True if i == 0 else False  # Plot only on first exp.\n",
    "\n",
    "        # Runs trial for one sample X, and all LOO Y's.\n",
    "        discs_y_y_, discs_x_y_, pstats_x_y_ = run_trial(\n",
    "            data_source, n, m, max_iter, plot=plot)\n",
    "        \n",
    "        max_discs_y_y_.append(np.max(discs_y_y_))\n",
    "        max_discs_x_y_.append(np.max(discs_x_y_))\n",
    "        min_pstats_x_y_.append(np.min(pstats_x_y_))\n",
    "    \n",
    "    # Utility: How does Y_m' compare to X_m, in belonging to X? \n",
    "    eval_with_baseline(data_source, max_discs_y_y_, \n",
    "                       max_discs_x_y_, min_pstats_x_y_,\n",
    "                       n, m)\n",
    "    \n",
    "    # Privacy: How close is Y_m' to Y_m?\n",
    "    measure_eps(max_discs_y_y_, delta)\n",
    "    \n",
    "    end_time = time.time()\n",
    "    print('Time elapsed: {:.1f}s'.format(end_time - start_time))\n",
    "\n",
    "    pdb.set_trace()\n",
    "\n",
    "if DO_EXPERIMENT_SP:\n",
    "    main()"
   ]
  },
  {
   "cell_type": "markdown",
   "metadata": {},
   "source": [
    "____"
   ]
  },
  {
   "cell_type": "markdown",
   "metadata": {},
   "source": [
    "## PART 2:\n",
    "## TensorFlow attack. Identify missing Xi."
   ]
  },
  {
   "cell_type": "markdown",
   "metadata": {},
   "source": [
    "#### Build the training set of datasets and their support points."
   ]
  },
  {
   "cell_type": "code",
   "execution_count": null,
   "metadata": {},
   "outputs": [],
   "source": [
    "import numpy as np\n",
    "\n",
    "def build_nn_training_set(CONFIG):\n",
    "    n = CONFIG['energy_n']\n",
    "    m = CONFIG['energy_m']\n",
    "    lr = CONFIG['energy_lr']\n",
    "    max_iter = CONFIG['energy_max_iter']\n",
    "    data_source = CONFIG['data_source']\n",
    "    data_size = CONFIG['tf_data_size']\n",
    "    \n",
    "    assert data_source == 'gaussian', 'Temporarily only Gaussian(0,1)'\n",
    "    \n",
    "    data = np.zeros((data_size, n + m + 1))  # Add one for removed index.\n",
    "    for i in range(data_size):\n",
    "        x = np.random.normal(0, 1, size=n)\n",
    "        removed_index = np.random.choice(range(n))\n",
    "        x_ = [v for i,v in enumerate(x) if i != removed_index]\n",
    "        y_ = get_support_points(x_, m, max_iter, lr)\n",
    "        \n",
    "        # Assemble example with original data, LOO support points,\n",
    "        # and removed index.\n",
    "        data[i] = np.concatenate((np.sort(x), np.sort(y_), [removed_index]))\n",
    "    \n",
    "    dim_x, dim_y = n, m\n",
    "    data_train = data[:int(0.8 * data.shape[0])]\n",
    "    data_test = data[int(0.8 * data.shape[0]):]\n",
    "    \n",
    "    np.save('nn_training_set.npy', data_train)\n",
    "    return data_train, data_test, dim_x, dim_y"
   ]
  },
  {
   "cell_type": "markdown",
   "metadata": {},
   "source": [
    "#### Build the TF graph and train."
   ]
  },
  {
   "cell_type": "code",
   "execution_count": null,
   "metadata": {},
   "outputs": [],
   "source": [
    "def run_tf(CONFIG, data_train, data_test):\n",
    "    import tensorflow as tf\n",
    "    tf.reset_default_graph()\n",
    "    \n",
    "    width = CONFIG['tf_width']\n",
    "    depth = CONFIG['tf_depth']\n",
    "    lr = CONFIG['tf_lr']\n",
    "    max_iter = CONFIG['tf_max_iter']\n",
    "    activation = CONFIG['tf_activation']\n",
    "    regularizer = CONFIG['tf_regularizer']\n",
    "\n",
    "    # Set up config for neural network.\n",
    "    data_train_inputs, data_train_labels = data_train[:,:-1], data_train[:,-1]\n",
    "    data_test_inputs, data_test_labels = data_test[:,:-1], data_test[:,-1]\n",
    "    n_inputs = data_train_inputs.shape[0]\n",
    "\n",
    "\n",
    "    ###############\n",
    "    # Build graph.\n",
    "\n",
    "    # Computation.\n",
    "    input_data = tf.placeholder(tf.float32, [None, dim_x + dim_y], name='input_data')\n",
    "    input_labels = tf.placeholder(tf.int32, [None], name='input_labels')\n",
    "    labels = tf.one_hot(input_labels, dim_x)\n",
    "\n",
    "    h = input_data\n",
    "    for d in range(depth):\n",
    "        h = tf.layers.dense(h, width, activation=activation,\n",
    "                            activity_regularizer=regularizer)\n",
    "        h = tf.nn.dropout(h, 0.8)\n",
    "    logits = tf.layers.dense(h, dim_x)\n",
    "\n",
    "    # Loss and optimization.\n",
    "    loss = tf.reduce_mean(\n",
    "        tf.losses.softmax_cross_entropy(labels, logits))\n",
    "    opt = tf.train.RMSPropOptimizer(lr)\n",
    "    grads_, vars_ = zip(*opt.compute_gradients(\n",
    "        loss,var_list=tf.trainable_variables()))\n",
    "    grads_clipped_ = tuple([tf.clip_by_value(g, -0.01, 0.01) for g in grads_])\n",
    "    optim = opt.apply_gradients(zip(grads_clipped_, vars_))\n",
    "\n",
    "    # Performance.\n",
    "    prediction = tf.nn.softmax(logits)\n",
    "    correct_prediction = tf.equal(tf.argmax(prediction, 1), tf.argmax(labels, 1))\n",
    "    accuracy = tf.reduce_mean(tf.cast(correct_prediction, tf.float32))\n",
    "\n",
    "    #############\n",
    "\n",
    "    # Train.\n",
    "    init_op = tf.global_variables_initializer()\n",
    "    gpu_options = tf.GPUOptions(per_process_gpu_memory_fraction=0.333)\n",
    "    sess_config = tf.ConfigProto(allow_soft_placement=True, gpu_options=gpu_options)\n",
    "    with tf.Session(config=sess_config) as sess:\n",
    "        sess.run(init_op)\n",
    "\n",
    "        for i in range(max_iter):\n",
    "            acc_train_, loss_, _ = sess.run([accuracy, loss, optim], \n",
    "                                {input_data: data_train_inputs,\n",
    "                                 input_labels: data_train_labels})\n",
    "\n",
    "            if i % 1000 == 0:\n",
    "                acc_test_ = sess.run(accuracy, \n",
    "                                     {input_data: data_test_inputs,\n",
    "                                      input_labels: data_test_labels})\n",
    "\n",
    "                print(('Iter: {}. , Loss={:.3f}, Acc_train={:.3f}, '\n",
    "                       'Acc_test={:.3f}').format(i, loss_, acc_train_, acc_test_))"
   ]
  },
  {
   "cell_type": "code",
   "execution_count": null,
   "metadata": {},
   "outputs": [],
   "source": [
    "CONFIG = {\n",
    "    'energy_n': 50,\n",
    "    'energy_m': 10,\n",
    "    'energy_lr': 1.,\n",
    "    'energy_max_iter': 100,\n",
    "    'data_source': 'gaussian',\n",
    "    'tf_data_size': 250,\n",
    "    'tf_lr': 1e-4,\n",
    "    'tf_max_iter': 500000,\n",
    "    'tf_activation': tf.nn.relu,\n",
    "    'tf_regularizer': None, #tf.contrib.layers.l1_regularizer(0.001),\n",
    "    'tf_width': 100,\n",
    "    'tf_depth': 5,\n",
    "}"
   ]
  },
  {
   "cell_type": "code",
   "execution_count": null,
   "metadata": {},
   "outputs": [],
   "source": [
    "if DO_EXPERIMENT_TF:\n",
    "    print('\\n\\nTrial run for support points. Check for convergence before proceeding.')\n",
    "    run_trial(CONFIG['data_source'], CONFIG['energy_n'], CONFIG['energy_m'],\n",
    "              CONFIG['energy_max_iter'], plot=True)\n",
    "    \n",
    "    print('\\n\\n[Generating training data for TensorFlow prediction model.]')\n",
    "    data_train, data_test, dim_x, dim_y = build_nn_training_set(CONFIG)\n",
    "    \n",
    "    print('\\n\\nTraining TensorFlow prediction model.')\n",
    "    run_tf(CONFIG, data_train, data_test)"
   ]
  },
  {
   "cell_type": "code",
   "execution_count": null,
   "metadata": {},
   "outputs": [],
   "source": []
  }
 ],
 "metadata": {
  "kernelspec": {
   "display_name": "Python 3",
   "language": "python",
   "name": "python3"
  },
  "language_info": {
   "codemirror_mode": {
    "name": "ipython",
    "version": 3
   },
   "file_extension": ".py",
   "mimetype": "text/x-python",
   "name": "python",
   "nbconvert_exporter": "python",
   "pygments_lexer": "ipython3",
   "version": "3.6.6"
  }
 },
 "nbformat": 4,
 "nbformat_minor": 1
}
